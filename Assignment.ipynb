{
  "metadata": {
    "kernelspec": {
      "name": "python",
      "display_name": "Python (Pyodide)",
      "language": "python"
    },
    "language_info": {
      "codemirror_mode": {
        "name": "python",
        "version": 3
      },
      "file_extension": ".py",
      "mimetype": "text/x-python",
      "name": "python",
      "nbconvert_exporter": "python",
      "pygments_lexer": "ipython3",
      "version": "3.8"
    }
  },
  "nbformat_minor": 4,
  "nbformat": 4,
  "cells": [
    {
      "cell_type": "markdown",
      "source": "## 1. What is the purpose of the len() function in Python, and how can it be used with strings?",
      "metadata": {}
    },
    {
      "cell_type": "markdown",
      "source": "The len() function in Python is used to return the length (the number of items) of an object. This function works with various data types such as strings, lists, tuples, dictionaries, and more.\n\nPurpose of len() Function:\nGeneral Purpose: It returns the number of elements or items in the given object.\nUsing len() with Strings:\nWhen used with strings, the len() function returns the number of characters in the string.",
      "metadata": {}
    },
    {
      "cell_type": "markdown",
      "source": "# Example of len() with Strings:",
      "metadata": {}
    },
    {
      "cell_type": "code",
      "source": "# Example string\ntext = \"Hello, World!\"\n\n# Using len() to find the length of the string\nlength = len(text)\n\nprint(length)  # Output: 13\n",
      "metadata": {
        "trusted": true
      },
      "outputs": [],
      "execution_count": null
    },
    {
      "cell_type": "markdown",
      "source": "## 2. How can you concatenate two or more strings in Python, and can you provide an example of string concatenate?.",
      "metadata": {}
    },
    {
      "cell_type": "markdown",
      "source": "In Python, you can concatenate two or more strings using the + operator. This operator allows you to join multiple strings together into a single string.",
      "metadata": {}
    },
    {
      "cell_type": "markdown",
      "source": "Concatenating Strings with +:\nThe + operator is used to concatenate strings, combining them into one continuous string.",
      "metadata": {}
    },
    {
      "cell_type": "markdown",
      "source": "## Example of String Concatenation:",
      "metadata": {}
    },
    {
      "cell_type": "code",
      "source": "# Defining two strings\nstring1 = \"Hello\"\nstring2 = \"World\"\n\n# Concatenating the two strings using the + operator\nresult = string1 + \" \" + string2  # Adding a space between the words\n\nprint(result)  # Output: \"Hello World\"\n",
      "metadata": {
        "trusted": true
      },
      "outputs": [],
      "execution_count": null
    },
    {
      "cell_type": "markdown",
      "source": "## 3. What is string slicing in Python, and how can you extract a portion of a string using this method?",
      "metadata": {}
    },
    {
      "cell_type": "markdown",
      "source": "String slicing in Python allows you to extract a portion (substring) of a string using a specific syntax. You can specify the start index, end index, and step (optional) to retrieve a part of the string.",
      "metadata": {}
    },
    {
      "cell_type": "markdown",
      "source": "### Syntax for String Slicing:",
      "metadata": {}
    },
    {
      "cell_type": "markdown",
      "source": "substring = string[start:end:step]\n",
      "metadata": {}
    },
    {
      "cell_type": "markdown",
      "source": "start: The index where the slice begins (inclusive).\nend: The index where the slice ends (exclusive).\nstep: An optional parameter that defines the step (how many indices to skip). The default is 1.",
      "metadata": {}
    },
    {
      "cell_type": "markdown",
      "source": "### Key Points:",
      "metadata": {}
    },
    {
      "cell_type": "markdown",
      "source": "Indices in Python strings are zero-based, meaning the first character of the string is at index 0.\nNegative indices allow you to count from the end of the string. For example, -1 refers to the last character, -2 is the second-to-last, and so on.",
      "metadata": {}
    },
    {
      "cell_type": "markdown",
      "source": "### Examples of String Slicing:",
      "metadata": {}
    },
    {
      "cell_type": "code",
      "source": "text = \"Hello, World!\"\n# Extracting a substring from index 0 to index 5 (exclusive)\nsubstring = text[0:5]\nprint(substring)  # Output: \"Hello\"\n",
      "metadata": {
        "trusted": true
      },
      "outputs": [],
      "execution_count": null
    },
    {
      "cell_type": "markdown",
      "source": "### 4. How can you change the case of a string in Python, and can you provide examples of both making a string all uppercase and all lowercase ?.",
      "metadata": {}
    },
    {
      "cell_type": "markdown",
      "source": "In Python, you can change the case of a string using the built-in string methods upper() and lower(). These methods do not modify the original string (since strings are immutable in Python), but instead return a new string with the desired case transformation.",
      "metadata": {}
    },
    {
      "cell_type": "markdown",
      "source": "1. Making a String All Uppercase:\nThe upper() method converts all characters in a string to uppercase.",
      "metadata": {}
    },
    {
      "cell_type": "markdown",
      "source": "### Example:",
      "metadata": {}
    },
    {
      "cell_type": "code",
      "source": "text = \"Hello, World!\"\nuppercase_text = text.upper()\nprint(uppercase_text)  # Output: \"HELLO, WORLD!\"\n",
      "metadata": {
        "trusted": true
      },
      "outputs": [],
      "execution_count": null
    },
    {
      "cell_type": "markdown",
      "source": "### 2. Making a String All Lowercase:",
      "metadata": {}
    },
    {
      "cell_type": "markdown",
      "source": "The lower() method converts all characters in a string to lowercase.",
      "metadata": {}
    },
    {
      "cell_type": "markdown",
      "source": "### Example:",
      "metadata": {}
    },
    {
      "cell_type": "code",
      "source": "text = \"Hello, World!\"\nlowercase_text = text.lower()\nprint(lowercase_text)  # Output: \"hello, world!\"\n",
      "metadata": {
        "trusted": true
      },
      "outputs": [],
      "execution_count": null
    },
    {
      "cell_type": "markdown",
      "source": "### 5.5. What does the split() method do in Python, and how can you split a string using a specific delimiter?",
      "metadata": {}
    },
    {
      "cell_type": "markdown",
      "source": "The split() method in Python is used to divide a string into a list of substrings based on a specified delimiter (separator). By default, the split() method splits the string at any whitespace (spaces, tabs, newlines), but you can specify a custom delimiter if needed.",
      "metadata": {}
    },
    {
      "cell_type": "markdown",
      "source": "### Syntax:",
      "metadata": {}
    },
    {
      "cell_type": "code",
      "source": "string.split(separator, maxsplit)\n",
      "metadata": {
        "trusted": true
      },
      "outputs": [],
      "execution_count": null
    }
  ]
}